{
 "cells": [
  {
   "cell_type": "markdown",
   "id": "b0d7879a",
   "metadata": {},
   "source": [
    "# Data preprocessing"
   ]
  },
  {
   "cell_type": "markdown",
   "id": "13f53f9f",
   "metadata": {},
   "source": [
    "## Libraries"
   ]
  },
  {
   "cell_type": "code",
   "execution_count": 1,
   "id": "d91bd62c",
   "metadata": {},
   "outputs": [],
   "source": [
    "import os\n",
    "import logging\n",
    "os.environ[\"TF_CPP_MIN_LOG_LEVEL\"] = \"2\"\n",
    "logging.getLogger(\"tensorflow\").setLevel(logging.ERROR)\n",
    "\n",
    "import pandas as pd\n",
    "import numpy as np\n",
    "import tensorflow as tf\n",
    "from sklearn.datasets import load_svmlight_file\n",
    "from tensorflow_serving.apis import input_pb2\n",
    "import matplotlib.pyplot as plt\n",
    "from scipy.sparse import csr_matrix\n",
    "from sklearn.preprocessing import MaxAbsScaler"
   ]
  },
  {
   "cell_type": "markdown",
   "id": "570ad190",
   "metadata": {},
   "source": [
    "## Loading data"
   ]
  },
  {
   "cell_type": "markdown",
   "id": "9b9c9199",
   "metadata": {},
   "source": [
    "It is necessary to download the [dataset](https://www.microsoft.com/en-us/research/project/mslr/) manually and decompress it. We are using folder number one for this project, which contains three files (train, test, vali) in libSVM format and text extension.\n",
    "\n",
    "Sklearn permits reading libSVM data and returns a sparse matrix for the features. We can easily transform it into a pandas dataframe. Labels and queries ids are numpy arrays."
   ]
  },
  {
   "cell_type": "code",
   "execution_count": 2,
   "id": "1f9bed9b",
   "metadata": {},
   "outputs": [],
   "source": [
    "def from_libsvm_pandas(data_path):\n",
    "    #Load datasets in the svmlight / libsvm format into sparse CSR matrix\n",
    "    matrix = load_svmlight_file(data_path, query_id=True) \n",
    "    features = pd.DataFrame.sparse.from_spmatrix(matrix[0])    \n",
    "    return features, matrix[1], matrix[2]"
   ]
  },
  {
   "cell_type": "code",
   "execution_count": 3,
   "id": "ef788ef6",
   "metadata": {},
   "outputs": [],
   "source": [
    "X_train, y_train, query_id_train = from_libsvm_pandas('datasets/MSLR-WEB10K/train.txt') \n",
    "X_test, y_test, query_id_test = from_libsvm_pandas('datasets/MSLR-WEB10K/test.txt')\n",
    "X_val, y_val, query_id_val = from_libsvm_pandas('datasets/MSLR-WEB10K/vali.txt')"
   ]
  },
  {
   "cell_type": "code",
   "execution_count": 4,
   "id": "dfb2428a",
   "metadata": {},
   "outputs": [
    {
     "data": {
      "text/html": [
       "<div>\n",
       "<style scoped>\n",
       "    .dataframe tbody tr th:only-of-type {\n",
       "        vertical-align: middle;\n",
       "    }\n",
       "\n",
       "    .dataframe tbody tr th {\n",
       "        vertical-align: top;\n",
       "    }\n",
       "\n",
       "    .dataframe thead th {\n",
       "        text-align: right;\n",
       "    }\n",
       "</style>\n",
       "<table border=\"1\" class=\"dataframe\">\n",
       "  <thead>\n",
       "    <tr style=\"text-align: right;\">\n",
       "      <th></th>\n",
       "      <th>0</th>\n",
       "      <th>1</th>\n",
       "      <th>2</th>\n",
       "      <th>3</th>\n",
       "      <th>4</th>\n",
       "      <th>5</th>\n",
       "      <th>6</th>\n",
       "      <th>7</th>\n",
       "      <th>8</th>\n",
       "      <th>9</th>\n",
       "      <th>...</th>\n",
       "      <th>126</th>\n",
       "      <th>127</th>\n",
       "      <th>128</th>\n",
       "      <th>129</th>\n",
       "      <th>130</th>\n",
       "      <th>131</th>\n",
       "      <th>132</th>\n",
       "      <th>133</th>\n",
       "      <th>134</th>\n",
       "      <th>135</th>\n",
       "    </tr>\n",
       "  </thead>\n",
       "  <tbody>\n",
       "    <tr>\n",
       "      <th>0</th>\n",
       "      <td>3.0</td>\n",
       "      <td>3.0</td>\n",
       "      <td>0.0</td>\n",
       "      <td>0.0</td>\n",
       "      <td>3.0</td>\n",
       "      <td>1.0</td>\n",
       "      <td>1.0</td>\n",
       "      <td>0.000000</td>\n",
       "      <td>0.0</td>\n",
       "      <td>1.0</td>\n",
       "      <td>...</td>\n",
       "      <td>62.0</td>\n",
       "      <td>11089534.0</td>\n",
       "      <td>2.0</td>\n",
       "      <td>116.0</td>\n",
       "      <td>64034.0</td>\n",
       "      <td>13.0</td>\n",
       "      <td>3.0</td>\n",
       "      <td>0.0</td>\n",
       "      <td>0.0</td>\n",
       "      <td>0.0</td>\n",
       "    </tr>\n",
       "    <tr>\n",
       "      <th>1</th>\n",
       "      <td>3.0</td>\n",
       "      <td>0.0</td>\n",
       "      <td>3.0</td>\n",
       "      <td>0.0</td>\n",
       "      <td>3.0</td>\n",
       "      <td>1.0</td>\n",
       "      <td>0.0</td>\n",
       "      <td>1.000000</td>\n",
       "      <td>0.0</td>\n",
       "      <td>1.0</td>\n",
       "      <td>...</td>\n",
       "      <td>54.0</td>\n",
       "      <td>11089534.0</td>\n",
       "      <td>2.0</td>\n",
       "      <td>124.0</td>\n",
       "      <td>64034.0</td>\n",
       "      <td>1.0</td>\n",
       "      <td>2.0</td>\n",
       "      <td>0.0</td>\n",
       "      <td>0.0</td>\n",
       "      <td>0.0</td>\n",
       "    </tr>\n",
       "    <tr>\n",
       "      <th>2</th>\n",
       "      <td>3.0</td>\n",
       "      <td>0.0</td>\n",
       "      <td>2.0</td>\n",
       "      <td>0.0</td>\n",
       "      <td>3.0</td>\n",
       "      <td>1.0</td>\n",
       "      <td>0.0</td>\n",
       "      <td>0.666667</td>\n",
       "      <td>0.0</td>\n",
       "      <td>1.0</td>\n",
       "      <td>...</td>\n",
       "      <td>45.0</td>\n",
       "      <td>3.0</td>\n",
       "      <td>1.0</td>\n",
       "      <td>124.0</td>\n",
       "      <td>3344.0</td>\n",
       "      <td>14.0</td>\n",
       "      <td>67.0</td>\n",
       "      <td>0.0</td>\n",
       "      <td>0.0</td>\n",
       "      <td>0.0</td>\n",
       "    </tr>\n",
       "    <tr>\n",
       "      <th>3</th>\n",
       "      <td>3.0</td>\n",
       "      <td>0.0</td>\n",
       "      <td>3.0</td>\n",
       "      <td>0.0</td>\n",
       "      <td>3.0</td>\n",
       "      <td>1.0</td>\n",
       "      <td>0.0</td>\n",
       "      <td>1.000000</td>\n",
       "      <td>0.0</td>\n",
       "      <td>1.0</td>\n",
       "      <td>...</td>\n",
       "      <td>56.0</td>\n",
       "      <td>11089534.0</td>\n",
       "      <td>13.0</td>\n",
       "      <td>123.0</td>\n",
       "      <td>63933.0</td>\n",
       "      <td>1.0</td>\n",
       "      <td>3.0</td>\n",
       "      <td>0.0</td>\n",
       "      <td>0.0</td>\n",
       "      <td>0.0</td>\n",
       "    </tr>\n",
       "    <tr>\n",
       "      <th>4</th>\n",
       "      <td>3.0</td>\n",
       "      <td>0.0</td>\n",
       "      <td>3.0</td>\n",
       "      <td>0.0</td>\n",
       "      <td>3.0</td>\n",
       "      <td>1.0</td>\n",
       "      <td>0.0</td>\n",
       "      <td>1.000000</td>\n",
       "      <td>0.0</td>\n",
       "      <td>1.0</td>\n",
       "      <td>...</td>\n",
       "      <td>64.0</td>\n",
       "      <td>5.0</td>\n",
       "      <td>7.0</td>\n",
       "      <td>256.0</td>\n",
       "      <td>49697.0</td>\n",
       "      <td>1.0</td>\n",
       "      <td>13.0</td>\n",
       "      <td>0.0</td>\n",
       "      <td>0.0</td>\n",
       "      <td>0.0</td>\n",
       "    </tr>\n",
       "  </tbody>\n",
       "</table>\n",
       "<p>5 rows × 136 columns</p>\n",
       "</div>"
      ],
      "text/plain": [
       "   0    1    2    3    4    5    6         7    8    9    ...   126   \n",
       "0  3.0  3.0  0.0  0.0  3.0  1.0  1.0  0.000000  0.0  1.0  ...  62.0  \\\n",
       "1  3.0  0.0  3.0  0.0  3.0  1.0  0.0  1.000000  0.0  1.0  ...  54.0   \n",
       "2  3.0  0.0  2.0  0.0  3.0  1.0  0.0  0.666667  0.0  1.0  ...  45.0   \n",
       "3  3.0  0.0  3.0  0.0  3.0  1.0  0.0  1.000000  0.0  1.0  ...  56.0   \n",
       "4  3.0  0.0  3.0  0.0  3.0  1.0  0.0  1.000000  0.0  1.0  ...  64.0   \n",
       "\n",
       "          127   128    129      130   131   132  133  134  135  \n",
       "0  11089534.0   2.0  116.0  64034.0  13.0   3.0  0.0  0.0  0.0  \n",
       "1  11089534.0   2.0  124.0  64034.0   1.0   2.0  0.0  0.0  0.0  \n",
       "2         3.0   1.0  124.0   3344.0  14.0  67.0  0.0  0.0  0.0  \n",
       "3  11089534.0  13.0  123.0  63933.0   1.0   3.0  0.0  0.0  0.0  \n",
       "4         5.0   7.0  256.0  49697.0   1.0  13.0  0.0  0.0  0.0  \n",
       "\n",
       "[5 rows x 136 columns]"
      ]
     },
     "metadata": {},
     "output_type": "display_data"
    }
   ],
   "source": [
    "display(X_train.head())"
   ]
  },
  {
   "cell_type": "markdown",
   "id": "1817d188",
   "metadata": {},
   "source": [
    "## Feature selection"
   ]
  },
  {
   "cell_type": "markdown",
   "id": "6d263a49",
   "metadata": {},
   "source": [
    "According to a LASSO regression analysis in \"Feature Selection and Model Comparison on Microsoft Learning-to-Rank Data Sets\", certain features were found to have limited usefulness. Variance features and Inverse Document Frequency (IDF) based features appeared to be less effective in capturing the quality of web pages."
   ]
  },
  {
   "cell_type": "code",
   "execution_count": 5,
   "id": "1b4aa954",
   "metadata": {},
   "outputs": [],
   "source": [
    "columns_to_remove = [40, 41, 42, 43, 44, 65, 66, 67, 68, 69,\n",
    "                    90, 91, 92, 93, 94, 15, 16, 17, 18, 19,\n",
    "                    70, 71, 72, 73, 74, 75, 76, 77, 78, 79,\n",
    "                    80, 81, 82, 83, 84, 85, 86, 87, 88, 89]\n",
    "\n",
    "X_train = X_train.drop(columns=columns_to_remove)\n",
    "X_test = X_test.drop(columns=columns_to_remove)\n",
    "X_val = X_val.drop(columns=columns_to_remove)"
   ]
  },
  {
   "cell_type": "code",
   "execution_count": 6,
   "id": "1ee74e88",
   "metadata": {},
   "outputs": [
    {
     "name": "stdout",
     "output_type": "stream",
     "text": [
      "(723412, 96)\n"
     ]
    }
   ],
   "source": [
    "print(X_train.shape)"
   ]
  },
  {
   "cell_type": "markdown",
   "id": "53425ca2",
   "metadata": {},
   "source": [
    "This results in 96 columns since 40 features were removed for all datasets."
   ]
  },
  {
   "cell_type": "markdown",
   "id": "5652293f",
   "metadata": {},
   "source": [
    "## Normalization"
   ]
  },
  {
   "cell_type": "markdown",
   "id": "48903150",
   "metadata": {},
   "source": [
    "In contrast to Yahoo dataset, microsoft dataset's feature are not normalized (the values do not fall in the range 0 to 1) and this can reverberate the training. Therefore, we must apply a normalization technique.\n",
    "\n",
    "Unfourtanetly, we cannot use min-max normalization when we have a sparse dataset. However, another option is MaxAbsScaler. It uses the maximum absolute value to perform the scaling, making it similar in nature to regular min-max normalization. Read more [here](https://github.com/christianversloot/machine-learning-articles/blob/main/feature-scaling-with-python-and-sparse-data.md)."
   ]
  },
  {
   "cell_type": "code",
   "execution_count": 7,
   "id": "d7c5a39b",
   "metadata": {},
   "outputs": [],
   "source": [
    "scaler =  MaxAbsScaler()\n",
    "X_train_d = scaler.fit_transform(X_train)\n",
    "X_val_d = scaler.transform(X_val)\n",
    "X_test_d = scaler.transform(X_test)"
   ]
  },
  {
   "cell_type": "markdown",
   "id": "70b3a11b",
   "metadata": {},
   "source": [
    "## Data visualization"
   ]
  },
  {
   "cell_type": "markdown",
   "id": "6659c66d",
   "metadata": {},
   "source": [
    "To inspect the class balance of our three datasets, we can plot the labels' frequency."
   ]
  },
  {
   "cell_type": "markdown",
   "id": "6c6d02aa",
   "metadata": {},
   "source": [
    "### Frequency labels"
   ]
  },
  {
   "cell_type": "code",
   "execution_count": 8,
   "id": "fb75c790",
   "metadata": {},
   "outputs": [],
   "source": [
    "def plot_frequency_labels(y_train, y_test, y_val):\n",
    "    \n",
    "    freq_train = np.bincount(y_train.astype(int))\n",
    "    freq_test = np.bincount(y_test.astype(int))\n",
    "    freq_val = np.bincount(y_val.astype(int))\n",
    "    \n",
    "    width = 0.3\n",
    "    \n",
    "    fig, ax = plt.subplots()\n",
    "    labels = [\"Bad\", \"Fair\", \"Good\", \"Excellent\", \"Perfect\"]\n",
    "    X_axis = np.arange(len(labels))\n",
    "    \n",
    "    ax.bar(X_axis, freq_train, width, label=\"Train\", color='blue')\n",
    "    ax.bar(X_axis+0.3, freq_val, width, label=\"Val\", color='orange')\n",
    "    ax.bar(X_axis+0.6, freq_test, width, label=\"Test\", color='green')\n",
    "    \n",
    "    ax.set_ylabel(\"Frequency\")\n",
    "    ax.set_xlabel(\"Label\")\n",
    "    ax.set_title(\"Counts by Label\")\n",
    "    ax.set_xticks(X_axis + width)\n",
    "    ax.set_xticklabels(labels)\n",
    "    ax.legend()\n",
    "    \n",
    "    plt.show()"
   ]
  },
  {
   "cell_type": "code",
   "execution_count": 9,
   "id": "b893cb10",
   "metadata": {},
   "outputs": [
    {
     "data": {
      "image/png": "[encoded data removed]",
      "text/plain": [
       "<Figure size 640x480 with 1 Axes>"
      ]
     },
     "metadata": {},
     "output_type": "display_data"
    }
   ],
   "source": [
    "plot_frequency_labels(y_train, y_test, y_val)"
   ]
  },
  {
   "cell_type": "markdown",
   "id": "fc26e701",
   "metadata": {},
   "source": [
    "The data is clearly imbalanced since most of the documents were labeled as \"Bad\", and not many as \"Excellent\" or \"Perfect\". However, this is common in real rankings since normally there are more irrelevant documents than relevant. It also depends on the person who puntuatets the document in light of the query. Therefore, we are not applying any treatment for imbalanced data."
   ]
  },
  {
   "cell_type": "markdown",
   "id": "119a1516",
   "metadata": {},
   "source": [
    "### Frequency queries with # documents"
   ]
  },
  {
   "cell_type": "markdown",
   "id": "65763f71",
   "metadata": {},
   "source": [
    "Another interesting plot is the number of documents retrieved against the number of queries. "
   ]
  },
  {
   "cell_type": "code",
   "execution_count": 10,
   "id": "4e16257d",
   "metadata": {},
   "outputs": [],
   "source": [
    "def plot_frequency_queries_doc(qid_train, qid_test, qid_val):   \n",
    "    \n",
    "    \n",
    "    # Count the frequencies for each number of documents returned\n",
    "    num_docs_counts_train = np.bincount(np.bincount(qid_train), minlength=1)[1:]\n",
    "    num_docs_counts_test = np.bincount(np.bincount(qid_test), minlength=1)[1:]\n",
    "    num_docs_counts_val = np.bincount(np.bincount(qid_val), minlength=1)[1:]\n",
    "\n",
    "    fig, axs = plt.subplots(3, 1, figsize=(8, 10))\n",
    "\n",
    "    # Plot 1\n",
    "    axs[0].bar(np.arange(len(num_docs_counts_train)),  num_docs_counts_train, color='blue')\n",
    "    axs[0].set_ylabel('Number of Documents Returned')\n",
    "    axs[0].set_xlabel('Number of Queries')\n",
    "    axs[0].set_title('Train')\n",
    "\n",
    "    # Plot 2\n",
    "    axs[1].bar(np.arange(len(num_docs_counts_val)), num_docs_counts_val, color='orange')\n",
    "    axs[1].set_ylabel('Number of Documents Returned')\n",
    "    axs[1].set_xlabel('Number of Queries')\n",
    "    axs[1].set_title('Val')\n",
    "\n",
    "    # Plot 3\n",
    "    axs[2].bar(np.arange(len(num_docs_counts_test)), num_docs_counts_test, color='green')\n",
    "    axs[2].set_ylabel('Number of Documents Returned')\n",
    "    axs[2].set_xlabel('Number of Queries')\n",
    "    axs[2].set_title('Test')\n",
    "\n",
    "    plt.tight_layout()\n",
    "    plt.show()"
   ]
  },
  {
   "cell_type": "code",
   "execution_count": 11,
   "id": "a6e3b2b3",
   "metadata": {},
   "outputs": [
    {
     "data": {
      "image/png": "[encoded data removed]",
      "text/plain": [
       "<Figure size 800x1000 with 3 Axes>"
      ]
     },
     "metadata": {},
     "output_type": "display_data"
    }
   ],
   "source": [
    "plot_frequency_queries_doc(query_id_train,query_id_test,query_id_val)"
   ]
  },
  {
   "cell_type": "markdown",
   "id": "6de77219",
   "metadata": {},
   "source": [
    "The sets follow a similar distribution. Most queries return between 70 and 200 documents. Hence, we are going to train our model using 150 documents per query."
   ]
  },
  {
   "cell_type": "markdown",
   "id": "1a807479",
   "metadata": {},
   "source": [
    "### Printing statistic"
   ]
  },
  {
   "cell_type": "code",
   "execution_count": 12,
   "id": "b4034951",
   "metadata": {},
   "outputs": [],
   "source": [
    "def stats(train, test, val):\n",
    "            \n",
    "    # Collect metrics for below stats\n",
    "    len_train = train[0].shape[0]\n",
    "    len_test = test[0].shape[0]\n",
    "    len_val = val[0].shape[0]\n",
    "    total = len_train + len_test + len_val\n",
    "        \n",
    "    # Print length of all datasets and the overal balance between the splits\n",
    "    print('*'*24 + ' ' + 'Total documents' + ' ' + '*'*24)\n",
    "    print(f'Total documents in training set: {len_train}')\n",
    "    print(f'Total documents in testing set: {len_test}')\n",
    "    print(f'Total documents in validation set: {len_val}')\n",
    "    print('='*64)\n",
    "    print(f'The training set contains {round(len_train/total, 3)}% of the total data')\n",
    "    print(f'The testing set contains {round(len_test/total, 3)}% of the total data')\n",
    "    print(f'The validation set contains {round(len_val/total, 3)}% of the total data')\n",
    "         \n",
    "    # Mapping of initial dataframes\n",
    "    dataframes = {'train': train, 'test': test, 'val': val}\n",
    "        \n",
    "    # Calculating the distribution of the relevance column\n",
    "    for k,df in dataframes.items():\n",
    "        len_docs = len(df[1])\n",
    "        relevance_counts = np.bincount(df[1].astype(int))\n",
    "        print('='*64)\n",
    "        print('*'*16 + ' ' + f'{k} Relevance Class Balance' + ' ' + '*'*16)\n",
    "        for i in [0,1,2,3,4]:\n",
    "            print(f'Rank {i}: Total Count: {relevance_counts[i]} Percentage: {round(relevance_counts[i]/len_docs,3)}')\n",
    "    print(' ')"
   ]
  },
  {
   "cell_type": "code",
   "execution_count": 13,
   "id": "2a361410",
   "metadata": {},
   "outputs": [
    {
     "name": "stdout",
     "output_type": "stream",
     "text": [
      "************************ Total documents ************************\n",
      "Total documents in training set: 723412\n",
      "Total documents in testing set: 241521\n",
      "Total documents in validation set: 235259\n",
      "================================================================\n",
      "The training set contains 0.603% of the total data\n",
      "The testing set contains 0.201% of the total data\n",
      "The validation set contains 0.196% of the total data\n",
      "================================================================\n",
      "**************** train Relevance Class Balance ****************\n",
      "Rank 0: Total Count: 377957 Percentage: 0.522\n",
      "Rank 1: Total Count: 232569 Percentage: 0.321\n",
      "Rank 2: Total Count: 95082 Percentage: 0.131\n",
      "Rank 3: Total Count: 12658 Percentage: 0.017\n",
      "Rank 4: Total Count: 5146 Percentage: 0.007\n",
      "================================================================\n",
      "**************** test Relevance Class Balance ****************\n",
      "Rank 0: Total Count: 124784 Percentage: 0.517\n",
      "Rank 1: Total Count: 77896 Percentage: 0.323\n",
      "Rank 2: Total Count: 32459 Percentage: 0.134\n",
      "Rank 3: Total Count: 4450 Percentage: 0.018\n",
      "Rank 4: Total Count: 1932 Percentage: 0.008\n",
      "================================================================\n",
      "**************** val Relevance Class Balance ****************\n",
      "Rank 0: Total Count: 121522 Percentage: 0.517\n",
      "Rank 1: Total Count: 75815 Percentage: 0.322\n",
      "Rank 2: Total Count: 31910 Percentage: 0.136\n",
      "Rank 3: Total Count: 4209 Percentage: 0.018\n",
      "Rank 4: Total Count: 1803 Percentage: 0.008\n",
      " \n"
     ]
    }
   ],
   "source": [
    "train = [X_train_d, y_train, query_id_train]\n",
    "test = [X_test_d, y_test, query_id_test]\n",
    "val = [X_val_d, y_val, query_id_val]\n",
    "\n",
    "stats(train, test, val)"
   ]
  },
  {
   "cell_type": "markdown",
   "id": "66d21572",
   "metadata": {},
   "source": [
    "## Save as tfrecords"
   ]
  },
  {
   "cell_type": "markdown",
   "id": "c5f0a926",
   "metadata": {},
   "source": [
    "Finally, it is necessary to save the data in a specific format known as ELWC if we want to train a neural GAM model. It is one of the accepted formats of tensorflow ranking library."
   ]
  },
  {
   "cell_type": "code",
   "execution_count": 14,
   "id": "28486c04",
   "metadata": {},
   "outputs": [],
   "source": [
    "class Parser_libSVM_tfrecord():\n",
    "    \n",
    "    def __init__(self, data=[], tfrecord_path=' ', labels = []):\n",
    "        \n",
    "        self.data = data\n",
    "        self.tfrecord_path = tfrecord_path\n",
    "        self.labels = labels\n",
    "        \n",
    "        if not os.path.isdir(self.tfrecord_path):\n",
    "            os.makedirs(self.tfrecord_path)\n",
    "            \n",
    "    def _float_feature(self, value):\n",
    "        \"\"\"Returns a float_list from a float / double.\"\"\"\n",
    "        return tf.train.Feature(float_list=tf.train.FloatList(value=[value]))\n",
    "\n",
    "    def _int64_feature(self, value):\n",
    "        \"\"\"Returns an int64_list from a bool / enum / int / uint.\"\"\"\n",
    "        return tf.train.Feature(int64_list=tf.train.Int64List(value=[value]))\n",
    "    \n",
    "    def create_tfrecord(self, data, tfrecord_path):\n",
    "\n",
    "        options_ = tf.io.TFRecordOptions(compression_type='GZIP')\n",
    "        with tf.io.TFRecordWriter(tfrecord_path) as writer:\n",
    "\n",
    "            # Create Example list \n",
    "            elwc = input_pb2.ExampleListWithContext()\n",
    "            # Save the last query id for filtering\n",
    "            last_query_id = None\n",
    "            \n",
    "            #for each sample\n",
    "            for row in range(data.shape[0]):\n",
    "                # Select data from each row\n",
    "                relevance_label, query_id, features = data[row,0],data[row,1],data[row,2:]\n",
    "                # Create Example Dict\n",
    "                example_dict = {\n",
    "                   f'{feat_name}':self._float_feature(feat_val) for feat_name, feat_val in zip(self.labels, features)\n",
    "                }\n",
    "                example_dict['relevance_label'] = self._int64_feature(int(relevance_label))\n",
    "                # Create Features\n",
    "                example_ = tf.train.Example(features=tf.train.Features(\n",
    "                                                         feature=example_dict)\n",
    "                                     )\n",
    "                # Create ELWC by query id\n",
    "                if query_id != last_query_id:\n",
    "                    if last_query_id != None:\n",
    "                        writer.write(elwc.SerializeToString())\n",
    "                    last_query_id = query_id\n",
    "                    elwc = input_pb2.ExampleListWithContext()\n",
    "                    elwc.examples.append(example_)\n",
    "                else:\n",
    "                    elwc.examples.append(example_)\n",
    "            # Writing the final query\n",
    "            writer.write(elwc.SerializeToString())\n",
    "            \n",
    "    def load_and_convert_data(self):\n",
    "        # Concatenate data into one array\n",
    "        # each row represents a doc, and the columns contain the label, query ID, and features\n",
    "        for label, dataset in data.items():\n",
    "            \n",
    "            expanded_data = np.concatenate((np.expand_dims(dataset[1], axis=1), \n",
    "                                        np.expand_dims(dataset[2], axis=1), \n",
    "                                        dataset[0].toarray()), axis=1)\n",
    "            tfrecord_path = f'{self.tfrecord_path}/{label}.tfrecords' \n",
    "            self.create_tfrecord(expanded_data, tfrecord_path) #call function to transform into tfrecord"
   ]
  },
  {
   "cell_type": "code",
   "execution_count": 15,
   "id": "42cc02ed",
   "metadata": {},
   "outputs": [],
   "source": [
    "mslr_labels = ['covered_query_term_number_body','covered_query_term_number_anchor','covered_query_term_number_title', \n",
    "                 'covered_query_term_number_url','covered_query_term_number_whole_document','covered_query_term_ratio_body',\n",
    "                'covered_query_term_ratio_anchor','covered_query_term_ratio_title','covered_query_term_ratio_url',\n",
    "                 'covered_query_term_ratio_whole_document', 'stream_length_body', 'stream_length_anchor',\n",
    "                'stream_length_title','stream_length_url','stream_length_whole_document','sum_term_freq_body','sum_term_freq_anchor','sum_term_freq_title',\n",
    "                 'sum_term_freq_url','sum_term_freq_whole_document','min_term_freq_body','min_term_freq_anchor','min_term_freq_title',\n",
    "                 'min_term_freq_url','min_term_freq_whole_document','max_term_freq_body','max_term_freq_anchor','max_term_freq_title',\n",
    "                 'max_term_freq_url','max_term_freq_whole_document','mean_term_freq_body','mean_term_freq_anchor','mean_term_freq_title',\n",
    "                 'mean_term_freq_url','mean_term_freq_whole_document','sum_stream_length_normalized_term_freq_body','sum_stream_length_normalized_term_freq_anchor',\n",
    "                 'sum_stream_length_normalized_term_freq_title','sum_stream_length_normalized_term_freq_url','sum_stream_length_normalized_term_whole_document',\n",
    "                 'min_stream_length_normalized_term_freq_body','min_stream_length_normalized_term_freq_anchor','min_stream_length_normalized_term_freq_title',\n",
    "                 'min_stream_length_normalized_term_freq_url','min_stream_length_normalized_term_freq_whole_document','max_stream_length_normalized_term_freq_body',\n",
    "                 'max_stream_length_normalized_term_freq_anchor','max_stream_length_normalized_term_freq_title','max_stream_length_normalized_term_freq_url',\n",
    "                 'max_stream_length_normalized_term_freq_whole_document','mean_stream_length_normalized_term_freq_body','mean_stream_length_normalized_term_freq_anchor',\n",
    "                 'mean_stream_length_normalized_term_freq_title','mean_stream_length_normalized_term_freq_url','mean_stream_length_normalized_term_freq_whole_document','boolean_model_body',\n",
    "                 'boolean_model_anchor','boolean_model_title','boolean_model_url','boolean_model_whole_document','vector_space_model_body',\n",
    "                 'vector_space_model_anchor','vector_space_model_title','vector_space_model_url','vector_space_model_whole_document','BM25_body',\n",
    "                 'BM25_anchor','BM25_title','BM25_url','BM25_whole_document','LMIR.ABS_body','LMIR.ABS_anchor','LMIR.ABS_title','LMIR.ABS_url',\n",
    "                 'LMIR.ABS_whole_document','LMIR.DIR_body','LMIR.DIR_anchor','LMIR.DIR_title','LMIR.DIR_url','LMIR.DIR_whole_document','LMIR.JM_body',\n",
    "                 'LMIR.JM_anchor','LMIR.JM_title','LMIR.JM_url','LMIR.JM_whole_document','num_slash_url','length_url','inlink_number','outlink_number',\n",
    "                 'pagerank','siterank','qualityscore','qualityscore2','query_url_click_count','url_click_count','url_dwell_time']"
   ]
  },
  {
   "cell_type": "code",
   "execution_count": 16,
   "id": "8afd95f6",
   "metadata": {},
   "outputs": [],
   "source": [
    "data = {'train':train, 'test':test, 'val':val}\n",
    "\n",
    "parser = Parser_libSVM_tfrecord(data=data, tfrecord_path='datasets/MSLR-WEB10K/tfrecords', labels = mslr_labels)\n",
    "parser.load_and_convert_data()"
   ]
  },
  {
   "cell_type": "markdown",
   "id": "3f090f60",
   "metadata": {},
   "source": [
    "## Save test data as CSV"
   ]
  },
  {
   "cell_type": "markdown",
   "id": "a8b46b04",
   "metadata": {},
   "source": [
    "We also save the test data as a csv because we will need it later when we want to use LIME to generate explanations."
   ]
  },
  {
   "cell_type": "code",
   "execution_count": 17,
   "id": "d5c49935",
   "metadata": {},
   "outputs": [],
   "source": [
    "final_df = pd.DataFrame.sparse.from_spmatrix(test[0], columns = mslr_labels)\n",
    "final_df.insert(0, 'qid', test[2])\n",
    "final_df.insert(0, 'relevance_label', test[1])"
   ]
  },
  {
   "cell_type": "code",
   "execution_count": 18,
   "id": "9b058c6e",
   "metadata": {},
   "outputs": [
    {
     "data": {
      "text/html": [
       "<div>\n",
       "<style scoped>\n",
       "    .dataframe tbody tr th:only-of-type {\n",
       "        vertical-align: middle;\n",
       "    }\n",
       "\n",
       "    .dataframe tbody tr th {\n",
       "        vertical-align: top;\n",
       "    }\n",
       "\n",
       "    .dataframe thead th {\n",
       "        text-align: right;\n",
       "    }\n",
       "</style>\n",
       "<table border=\"1\" class=\"dataframe\">\n",
       "  <thead>\n",
       "    <tr style=\"text-align: right;\">\n",
       "      <th></th>\n",
       "      <th>relevance_label</th>\n",
       "      <th>qid</th>\n",
       "      <th>covered_query_term_number_body</th>\n",
       "      <th>covered_query_term_number_anchor</th>\n",
       "      <th>covered_query_term_number_title</th>\n",
       "      <th>covered_query_term_number_url</th>\n",
       "      <th>covered_query_term_number_whole_document</th>\n",
       "      <th>covered_query_term_ratio_body</th>\n",
       "      <th>covered_query_term_ratio_anchor</th>\n",
       "      <th>covered_query_term_ratio_title</th>\n",
       "      <th>...</th>\n",
       "      <th>length_url</th>\n",
       "      <th>inlink_number</th>\n",
       "      <th>outlink_number</th>\n",
       "      <th>pagerank</th>\n",
       "      <th>siterank</th>\n",
       "      <th>qualityscore</th>\n",
       "      <th>qualityscore2</th>\n",
       "      <th>query_url_click_count</th>\n",
       "      <th>url_click_count</th>\n",
       "      <th>url_dwell_time</th>\n",
       "    </tr>\n",
       "  </thead>\n",
       "  <tbody>\n",
       "    <tr>\n",
       "      <th>0</th>\n",
       "      <td>2.0</td>\n",
       "      <td>13</td>\n",
       "      <td>0.026667</td>\n",
       "      <td>0.0</td>\n",
       "      <td>0.133333</td>\n",
       "      <td>0.066667</td>\n",
       "      <td>0.026667</td>\n",
       "      <td>1.0</td>\n",
       "      <td>0.0</td>\n",
       "      <td>1.0</td>\n",
       "      <td>...</td>\n",
       "      <td>0.022595</td>\n",
       "      <td>4.798976e-10</td>\n",
       "      <td>0.0</td>\n",
       "      <td>0.004059</td>\n",
       "      <td>0.382544</td>\n",
       "      <td>0.110236</td>\n",
       "      <td>0.027559</td>\n",
       "      <td>0.0</td>\n",
       "      <td>0.0</td>\n",
       "      <td>0.0</td>\n",
       "    </tr>\n",
       "    <tr>\n",
       "      <th>1</th>\n",
       "      <td>1.0</td>\n",
       "      <td>13</td>\n",
       "      <td>0.026667</td>\n",
       "      <td>0.0</td>\n",
       "      <td>0.000000</td>\n",
       "      <td>0.000000</td>\n",
       "      <td>0.026667</td>\n",
       "      <td>1.0</td>\n",
       "      <td>0.0</td>\n",
       "      <td>0.0</td>\n",
       "      <td>...</td>\n",
       "      <td>0.010975</td>\n",
       "      <td>4.463047e-08</td>\n",
       "      <td>0.0</td>\n",
       "      <td>0.002335</td>\n",
       "      <td>0.196231</td>\n",
       "      <td>0.255906</td>\n",
       "      <td>0.622047</td>\n",
       "      <td>0.0</td>\n",
       "      <td>0.0</td>\n",
       "      <td>0.0</td>\n",
       "    </tr>\n",
       "    <tr>\n",
       "      <th>2</th>\n",
       "      <td>3.0</td>\n",
       "      <td>13</td>\n",
       "      <td>0.026667</td>\n",
       "      <td>0.0</td>\n",
       "      <td>0.066667</td>\n",
       "      <td>0.000000</td>\n",
       "      <td>0.026667</td>\n",
       "      <td>1.0</td>\n",
       "      <td>0.0</td>\n",
       "      <td>0.5</td>\n",
       "      <td>...</td>\n",
       "      <td>0.012266</td>\n",
       "      <td>0.000000e+00</td>\n",
       "      <td>0.0</td>\n",
       "      <td>0.002335</td>\n",
       "      <td>0.017258</td>\n",
       "      <td>0.440945</td>\n",
       "      <td>0.555118</td>\n",
       "      <td>0.0</td>\n",
       "      <td>0.0</td>\n",
       "      <td>0.0</td>\n",
       "    </tr>\n",
       "    <tr>\n",
       "      <th>3</th>\n",
       "      <td>1.0</td>\n",
       "      <td>13</td>\n",
       "      <td>0.026667</td>\n",
       "      <td>0.0</td>\n",
       "      <td>0.133333</td>\n",
       "      <td>0.066667</td>\n",
       "      <td>0.026667</td>\n",
       "      <td>1.0</td>\n",
       "      <td>0.0</td>\n",
       "      <td>1.0</td>\n",
       "      <td>...</td>\n",
       "      <td>0.032279</td>\n",
       "      <td>3.924362e-05</td>\n",
       "      <td>0.0</td>\n",
       "      <td>0.008545</td>\n",
       "      <td>0.934218</td>\n",
       "      <td>0.003937</td>\n",
       "      <td>0.055118</td>\n",
       "      <td>0.0</td>\n",
       "      <td>0.0</td>\n",
       "      <td>0.0</td>\n",
       "    </tr>\n",
       "    <tr>\n",
       "      <th>4</th>\n",
       "      <td>0.0</td>\n",
       "      <td>13</td>\n",
       "      <td>0.013333</td>\n",
       "      <td>0.0</td>\n",
       "      <td>0.000000</td>\n",
       "      <td>0.000000</td>\n",
       "      <td>0.013333</td>\n",
       "      <td>0.5</td>\n",
       "      <td>0.0</td>\n",
       "      <td>0.0</td>\n",
       "      <td>...</td>\n",
       "      <td>0.015494</td>\n",
       "      <td>0.000000e+00</td>\n",
       "      <td>0.0</td>\n",
       "      <td>0.884320</td>\n",
       "      <td>0.238041</td>\n",
       "      <td>0.059055</td>\n",
       "      <td>0.047244</td>\n",
       "      <td>0.0</td>\n",
       "      <td>0.0</td>\n",
       "      <td>0.0</td>\n",
       "    </tr>\n",
       "  </tbody>\n",
       "</table>\n",
       "<p>5 rows × 98 columns</p>\n",
       "</div>"
      ],
      "text/plain": [
       "   relevance_label  qid  covered_query_term_number_body   \n",
       "0              2.0   13                        0.026667  \\\n",
       "1              1.0   13                        0.026667   \n",
       "2              3.0   13                        0.026667   \n",
       "3              1.0   13                        0.026667   \n",
       "4              0.0   13                        0.013333   \n",
       "\n",
       "   covered_query_term_number_anchor  covered_query_term_number_title   \n",
       "0                               0.0                         0.133333  \\\n",
       "1                               0.0                         0.000000   \n",
       "2                               0.0                         0.066667   \n",
       "3                               0.0                         0.133333   \n",
       "4                               0.0                         0.000000   \n",
       "\n",
       "   covered_query_term_number_url  covered_query_term_number_whole_document   \n",
       "0                       0.066667                                  0.026667  \\\n",
       "1                       0.000000                                  0.026667   \n",
       "2                       0.000000                                  0.026667   \n",
       "3                       0.066667                                  0.026667   \n",
       "4                       0.000000                                  0.013333   \n",
       "\n",
       "   covered_query_term_ratio_body  covered_query_term_ratio_anchor   \n",
       "0                            1.0                              0.0  \\\n",
       "1                            1.0                              0.0   \n",
       "2                            1.0                              0.0   \n",
       "3                            1.0                              0.0   \n",
       "4                            0.5                              0.0   \n",
       "\n",
       "   covered_query_term_ratio_title  ...  length_url  inlink_number   \n",
       "0                             1.0  ...    0.022595   4.798976e-10  \\\n",
       "1                             0.0  ...    0.010975   4.463047e-08   \n",
       "2                             0.5  ...    0.012266   0.000000e+00   \n",
       "3                             1.0  ...    0.032279   3.924362e-05   \n",
       "4                             0.0  ...    0.015494   0.000000e+00   \n",
       "\n",
       "   outlink_number  pagerank  siterank  qualityscore  qualityscore2   \n",
       "0             0.0  0.004059  0.382544      0.110236       0.027559  \\\n",
       "1             0.0  0.002335  0.196231      0.255906       0.622047   \n",
       "2             0.0  0.002335  0.017258      0.440945       0.555118   \n",
       "3             0.0  0.008545  0.934218      0.003937       0.055118   \n",
       "4             0.0  0.884320  0.238041      0.059055       0.047244   \n",
       "\n",
       "   query_url_click_count  url_click_count  url_dwell_time  \n",
       "0                    0.0              0.0             0.0  \n",
       "1                    0.0              0.0             0.0  \n",
       "2                    0.0              0.0             0.0  \n",
       "3                    0.0              0.0             0.0  \n",
       "4                    0.0              0.0             0.0  \n",
       "\n",
       "[5 rows x 98 columns]"
      ]
     },
     "metadata": {},
     "output_type": "display_data"
    }
   ],
   "source": [
    "display(final_df.head())"
   ]
  },
  {
   "cell_type": "code",
   "execution_count": 19,
   "id": "a877cd7b",
   "metadata": {},
   "outputs": [],
   "source": [
    "final_df.to_csv('test_mslr.csv', index=False)"
   ]
  }
 ],
 "metadata": {
  "kernelspec": {
   "display_name": "Tensor",
   "language": "python",
   "name": "tf"
  },
  "language_info": {
   "codemirror_mode": {
    "name": "ipython",
    "version": 3
   },
   "file_extension": ".py",
   "mimetype": "text/x-python",
   "name": "python",
   "nbconvert_exporter": "python",
   "pygments_lexer": "ipython3",
   "version": "3.9.16"
  }
 },
 "nbformat": 4,
 "nbformat_minor": 5
}
