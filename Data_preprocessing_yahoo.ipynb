{
 "cells": [
  {
   "cell_type": "markdown",
   "id": "9edb5f64",
   "metadata": {},
   "source": [
    "# Data preprocessing"
   ]
  },
  {
   "cell_type": "markdown",
   "id": "13f53f9f",
   "metadata": {},
   "source": [
    "## Libraries"
   ]
  },
  {
   "cell_type": "code",
   "execution_count": 1,
   "id": "d91bd62c",
   "metadata": {},
   "outputs": [],
   "source": [
    "import os\n",
    "import logging\n",
    "os.environ[\"TF_CPP_MIN_LOG_LEVEL\"] = \"2\"\n",
    "logging.getLogger(\"tensorflow\").setLevel(logging.ERROR)\n",
    "\n",
    "import pandas as pd\n",
    "import numpy as np\n",
    "import tensorflow as tf\n",
    "from sklearn.datasets import load_svmlight_file\n",
    "from tensorflow_serving.apis import input_pb2\n",
    "from sklearn.model_selection import train_test_split\n",
    "from sklearn.feature_selection import SelectKBest\n",
    "from sklearn.feature_selection import f_classif\n",
    "from sklearn.feature_selection import VarianceThreshold\n",
    "from matplotlib import pyplot as plt\n",
    "from scipy.sparse import csr_matrix"
   ]
  },
  {
   "cell_type": "markdown",
   "id": "570ad190",
   "metadata": {},
   "source": [
    "## Loading data"
   ]
  },
  {
   "cell_type": "markdown",
   "id": "ad1c4381",
   "metadata": {},
   "source": [
    "It is necessary to download the [dataset](https://webscope.sandbox.yahoo.com) manually and decompress it. We are using folder number one for this project, which contains three files (train, test, vali) in libSVM format and text extension."
   ]
  },
  {
   "cell_type": "markdown",
   "id": "9b9c9199",
   "metadata": {},
   "source": [
    "The main difficulty of the yahoo dataset is that it contains more features than the MSLR-WEB10K and the set of features for each query-document variates. Therefore, we cannot load it using read_csv, and creating a pandas dataframe reading line by line is not feasible due to computer resources.\n",
    "\n",
    "The easiest is to load it as a [sparse matrix](https://docs.scipy.org/doc/scipy/reference/sparse.html).\n",
    "\n",
    "Pandas permits the conversion of sparse matrices into pandas dataframe, while each column is stored as an arrays.SparseArray."
   ]
  },
  {
   "cell_type": "code",
   "execution_count": 2,
   "id": "367e1f51",
   "metadata": {},
   "outputs": [],
   "source": [
    "def from_libsvm_pandas(data_path):\n",
    "    matrix = load_svmlight_file(data_path, query_id=True) \n",
    "    features = pd.DataFrame.sparse.from_spmatrix(matrix[0])    \n",
    "    return features, matrix[1], matrix[2]"
   ]
  },
  {
   "cell_type": "code",
   "execution_count": 3,
   "id": "8d094cbc",
   "metadata": {},
   "outputs": [],
   "source": [
    "X_train, y_train, query_id_train = from_libsvm_pandas('datasets/yahoo/train.txt') \n",
    "X_test, y_test, query_id_test = from_libsvm_pandas('datasets/yahoo/test.txt')\n",
    "X_val, y_val, query_id_val = from_libsvm_pandas('datasets/yahoo/vali.txt')"
   ]
  },
  {
   "cell_type": "markdown",
   "id": "718eace2",
   "metadata": {},
   "source": [
    "## Feature selection"
   ]
  },
  {
   "cell_type": "markdown",
   "id": "24911603",
   "metadata": {},
   "source": [
    "Due to memory limitations, it is not possible to work with 699 features. In fact, many pairs query-document have less than 699 features (hence, the sparse matrix). \n",
    "\n",
    "We can reduce the feature space considerably by leaving out the columns that have more than 50% of zeros or values nearly to zero."
   ]
  },
  {
   "cell_type": "code",
   "execution_count": 4,
   "id": "a25842ad",
   "metadata": {},
   "outputs": [],
   "source": [
    "epsilon = 1e-6\n",
    "threshold = 0.5 * len(X_train)\n",
    "\n",
    "zero_columns = X_train.columns[(np.abs(X_train) < epsilon).sum() > threshold]\n",
    "\n",
    "X_train = X_train.drop(zero_columns, axis=1)\n",
    "X_test = X_test.drop(zero_columns, axis=1)\n",
    "X_val = X_val.drop(zero_columns, axis=1)"
   ]
  },
  {
   "cell_type": "code",
   "execution_count": 5,
   "id": "14763bb9",
   "metadata": {},
   "outputs": [
    {
     "name": "stdout",
     "output_type": "stream",
     "text": [
      "(473134, 196)\n"
     ]
    },
    {
     "data": {
      "text/html": [
       "<div>\n",
       "<style scoped>\n",
       "    .dataframe tbody tr th:only-of-type {\n",
       "        vertical-align: middle;\n",
       "    }\n",
       "\n",
       "    .dataframe tbody tr th {\n",
       "        vertical-align: top;\n",
       "    }\n",
       "\n",
       "    .dataframe thead th {\n",
       "        text-align: right;\n",
       "    }\n",
       "</style>\n",
       "<table border=\"1\" class=\"dataframe\">\n",
       "  <thead>\n",
       "    <tr style=\"text-align: right;\">\n",
       "      <th></th>\n",
       "      <th>10</th>\n",
       "      <th>11</th>\n",
       "      <th>16</th>\n",
       "      <th>20</th>\n",
       "      <th>26</th>\n",
       "      <th>27</th>\n",
       "      <th>29</th>\n",
       "      <th>33</th>\n",
       "      <th>35</th>\n",
       "      <th>36</th>\n",
       "      <th>...</th>\n",
       "      <th>668</th>\n",
       "      <th>670</th>\n",
       "      <th>673</th>\n",
       "      <th>676</th>\n",
       "      <th>686</th>\n",
       "      <th>689</th>\n",
       "      <th>692</th>\n",
       "      <th>693</th>\n",
       "      <th>696</th>\n",
       "      <th>698</th>\n",
       "    </tr>\n",
       "  </thead>\n",
       "  <tbody>\n",
       "    <tr>\n",
       "      <th>0</th>\n",
       "      <td>0.56756</td>\n",
       "      <td>0.064688</td>\n",
       "      <td>0.073248</td>\n",
       "      <td>0.125780</td>\n",
       "      <td>0.18431</td>\n",
       "      <td>0.75984</td>\n",
       "      <td>0.75616</td>\n",
       "      <td>0.46928</td>\n",
       "      <td>0.51765</td>\n",
       "      <td>0.46008</td>\n",
       "      <td>...</td>\n",
       "      <td>0.39332</td>\n",
       "      <td>0.00000</td>\n",
       "      <td>0.46194</td>\n",
       "      <td>0.82599</td>\n",
       "      <td>0.43149</td>\n",
       "      <td>0.776530</td>\n",
       "      <td>0.93784</td>\n",
       "      <td>0.40828</td>\n",
       "      <td>0.046567</td>\n",
       "      <td>0.201640</td>\n",
       "    </tr>\n",
       "    <tr>\n",
       "      <th>1</th>\n",
       "      <td>0.00000</td>\n",
       "      <td>0.064688</td>\n",
       "      <td>0.035654</td>\n",
       "      <td>0.050978</td>\n",
       "      <td>0.16583</td>\n",
       "      <td>0.75984</td>\n",
       "      <td>0.00000</td>\n",
       "      <td>0.60506</td>\n",
       "      <td>0.68499</td>\n",
       "      <td>0.90748</td>\n",
       "      <td>...</td>\n",
       "      <td>0.47892</td>\n",
       "      <td>0.00000</td>\n",
       "      <td>0.00000</td>\n",
       "      <td>0.82780</td>\n",
       "      <td>0.64536</td>\n",
       "      <td>0.030142</td>\n",
       "      <td>0.00000</td>\n",
       "      <td>0.00000</td>\n",
       "      <td>0.046567</td>\n",
       "      <td>0.054559</td>\n",
       "    </tr>\n",
       "    <tr>\n",
       "      <th>2</th>\n",
       "      <td>0.00000</td>\n",
       "      <td>0.064688</td>\n",
       "      <td>0.041540</td>\n",
       "      <td>0.050978</td>\n",
       "      <td>0.16583</td>\n",
       "      <td>0.75984</td>\n",
       "      <td>0.00000</td>\n",
       "      <td>0.28741</td>\n",
       "      <td>0.61979</td>\n",
       "      <td>0.90748</td>\n",
       "      <td>...</td>\n",
       "      <td>0.47892</td>\n",
       "      <td>0.00000</td>\n",
       "      <td>0.00000</td>\n",
       "      <td>0.83315</td>\n",
       "      <td>0.74183</td>\n",
       "      <td>0.013032</td>\n",
       "      <td>0.00000</td>\n",
       "      <td>0.00000</td>\n",
       "      <td>0.023896</td>\n",
       "      <td>0.469010</td>\n",
       "    </tr>\n",
       "    <tr>\n",
       "      <th>3</th>\n",
       "      <td>0.56756</td>\n",
       "      <td>0.064688</td>\n",
       "      <td>0.275270</td>\n",
       "      <td>0.302670</td>\n",
       "      <td>0.21079</td>\n",
       "      <td>0.75984</td>\n",
       "      <td>0.72114</td>\n",
       "      <td>0.25227</td>\n",
       "      <td>0.73912</td>\n",
       "      <td>0.73840</td>\n",
       "      <td>...</td>\n",
       "      <td>0.47892</td>\n",
       "      <td>0.00000</td>\n",
       "      <td>0.65091</td>\n",
       "      <td>0.81744</td>\n",
       "      <td>0.40180</td>\n",
       "      <td>0.967590</td>\n",
       "      <td>0.98865</td>\n",
       "      <td>0.29241</td>\n",
       "      <td>0.046567</td>\n",
       "      <td>0.820420</td>\n",
       "    </tr>\n",
       "    <tr>\n",
       "      <th>4</th>\n",
       "      <td>0.56756</td>\n",
       "      <td>0.064688</td>\n",
       "      <td>0.013021</td>\n",
       "      <td>0.050978</td>\n",
       "      <td>0.13866</td>\n",
       "      <td>0.75984</td>\n",
       "      <td>0.70626</td>\n",
       "      <td>0.60506</td>\n",
       "      <td>0.35576</td>\n",
       "      <td>0.66609</td>\n",
       "      <td>...</td>\n",
       "      <td>0.47892</td>\n",
       "      <td>0.46792</td>\n",
       "      <td>0.39751</td>\n",
       "      <td>0.83342</td>\n",
       "      <td>0.38674</td>\n",
       "      <td>0.809340</td>\n",
       "      <td>0.85251</td>\n",
       "      <td>0.33987</td>\n",
       "      <td>0.046567</td>\n",
       "      <td>0.443740</td>\n",
       "    </tr>\n",
       "  </tbody>\n",
       "</table>\n",
       "<p>5 rows × 196 columns</p>\n",
       "</div>"
      ],
      "text/plain": [
       "       10        11        16        20       26       27       29       33    \n",
       "0  0.56756  0.064688  0.073248  0.125780  0.18431  0.75984  0.75616  0.46928  \\\n",
       "1  0.00000  0.064688  0.035654  0.050978  0.16583  0.75984  0.00000  0.60506   \n",
       "2  0.00000  0.064688  0.041540  0.050978  0.16583  0.75984  0.00000  0.28741   \n",
       "3  0.56756  0.064688  0.275270  0.302670  0.21079  0.75984  0.72114  0.25227   \n",
       "4  0.56756  0.064688  0.013021  0.050978  0.13866  0.75984  0.70626  0.60506   \n",
       "\n",
       "       35       36   ...      668      670      673      676      686   \n",
       "0  0.51765  0.46008  ...  0.39332  0.00000  0.46194  0.82599  0.43149  \\\n",
       "1  0.68499  0.90748  ...  0.47892  0.00000  0.00000  0.82780  0.64536   \n",
       "2  0.61979  0.90748  ...  0.47892  0.00000  0.00000  0.83315  0.74183   \n",
       "3  0.73912  0.73840  ...  0.47892  0.00000  0.65091  0.81744  0.40180   \n",
       "4  0.35576  0.66609  ...  0.47892  0.46792  0.39751  0.83342  0.38674   \n",
       "\n",
       "        689      692      693       696       698  \n",
       "0  0.776530  0.93784  0.40828  0.046567  0.201640  \n",
       "1  0.030142  0.00000  0.00000  0.046567  0.054559  \n",
       "2  0.013032  0.00000  0.00000  0.023896  0.469010  \n",
       "3  0.967590  0.98865  0.29241  0.046567  0.820420  \n",
       "4  0.809340  0.85251  0.33987  0.046567  0.443740  \n",
       "\n",
       "[5 rows x 196 columns]"
      ]
     },
     "metadata": {},
     "output_type": "display_data"
    }
   ],
   "source": [
    "print(X_train.shape)\n",
    "display(X_val.head())"
   ]
  },
  {
   "cell_type": "markdown",
   "id": "ad956431",
   "metadata": {},
   "source": [
    "This leaves us with 196 features for all three sets. \n",
    "\n",
    "To select 100 out of these 196, we run a statistic test (ANOVA) to evaluate the relationship between each feature and the target variable, and select the top k features with the highest scores. "
   ]
  },
  {
   "cell_type": "code",
   "execution_count": 6,
   "id": "6d0a2679",
   "metadata": {},
   "outputs": [],
   "source": [
    "def select_features(X_train, y_train, X_val, X_test):\n",
    "    \n",
    "    # configure to select all features\n",
    "    fs = SelectKBest(score_func=f_classif, k=100)\n",
    "    # learn relationship from training data\n",
    "    fs.fit(X_train, y_train)\n",
    "    # transform train input data\n",
    "    X_train_fs = fs.transform(X_train)\n",
    "    #transform val input data\n",
    "    X_val_fs = fs.transform(X_val)\n",
    "    # transform test input data\n",
    "    X_test_fs = fs.transform(X_test)\n",
    "    return X_train_fs, X_val_fs, X_test_fs, fs"
   ]
  },
  {
   "cell_type": "code",
   "execution_count": 7,
   "id": "82f4a794",
   "metadata": {},
   "outputs": [
    {
     "data": {
      "image/png": "[encoded data removed]",
      "text/plain": [
       "<Figure size 640x480 with 1 Axes>"
      ]
     },
     "metadata": {},
     "output_type": "display_data"
    }
   ],
   "source": [
    "X_train_fs, X_val_fs, X_test_fs, fs = select_features(X_train, y_train, X_val, X_test)\n",
    "plt.bar([i for i in range(len(fs.scores_))], fs.scores_)\n",
    "plt.title(\"Score selected features\")\n",
    "plt.xlabel(\"Score ANOVA\")\n",
    "plt.ylabel(\"Feature\")\n",
    "plt.show()"
   ]
  },
  {
   "cell_type": "markdown",
   "id": "e53a3b8e",
   "metadata": {},
   "source": [
    "From our initial dataset of 699 features, the final 100 features selected are the following ones:"
   ]
  },
  {
   "cell_type": "code",
   "execution_count": 8,
   "id": "d3cdf910",
   "metadata": {},
   "outputs": [
    {
     "name": "stdout",
     "output_type": "stream",
     "text": [
      "Index([ 20,  26,  27,  36,  42,  68,  73,  80,  90,  97, 100, 125, 139, 146,\n",
      "       148, 149, 150, 152, 153, 154, 160, 161, 166, 171, 177, 180, 186, 191,\n",
      "       201, 207, 214, 240, 247, 252, 255, 264, 267, 284, 296, 303, 304, 316,\n",
      "       329, 331, 349, 365, 375, 378, 380, 381, 383, 386, 392, 394, 425, 426,\n",
      "       444, 445, 449, 460, 471, 473, 475, 479, 488, 491, 493, 501, 503, 506,\n",
      "       520, 526, 534, 536, 541, 549, 555, 573, 574, 578, 594, 602, 603, 604,\n",
      "       610, 620, 626, 630, 636, 637, 639, 640, 646, 658, 664, 670, 673, 676,\n",
      "       689, 693],\n",
      "      dtype='int64')\n"
     ]
    }
   ],
   "source": [
    "print(X_train.columns[fs.get_support()])"
   ]
  },
  {
   "cell_type": "markdown",
   "id": "46aac158",
   "metadata": {},
   "source": [
    "## Data visualization"
   ]
  },
  {
   "cell_type": "markdown",
   "id": "6c6d02aa",
   "metadata": {},
   "source": [
    "### Frequency labels"
   ]
  },
  {
   "cell_type": "markdown",
   "id": "fc2858af",
   "metadata": {},
   "source": [
    "To inspect the class balance of our three datasets, we can plot the labels' frequency."
   ]
  },
  {
   "cell_type": "code",
   "execution_count": 9,
   "id": "fb75c790",
   "metadata": {},
   "outputs": [],
   "source": [
    "def plot_frequency_labels(y_train, y_test, y_val):\n",
    "    \n",
    "    freq_train = np.bincount(y_train.astype(int))\n",
    "    freq_test = np.bincount(y_test.astype(int))\n",
    "    freq_val = np.bincount(y_val.astype(int))\n",
    "    \n",
    "    width = 0.3\n",
    "    \n",
    "    fig, ax = plt.subplots()\n",
    "    labels = [\"Bad\", \"Fair\", \"Good\", \"Excellent\", \"Perfect\"]\n",
    "    X_axis = np.arange(len(labels))\n",
    "    \n",
    "    ax.bar(X_axis, freq_train, width, label=\"Train\", color='blue')\n",
    "    ax.bar(X_axis+0.3, freq_val, width, label=\"Val\", color='orange')\n",
    "    ax.bar(X_axis+0.6, freq_test, width, label=\"Test\", color='green')\n",
    "    \n",
    "    ax.set_ylabel(\"Frequency\")\n",
    "    ax.set_xlabel(\"Label\")\n",
    "    ax.set_title(\"Counts by Label\")\n",
    "    ax.set_xticks(X_axis + width)\n",
    "    ax.set_xticklabels(labels)\n",
    "    ax.legend()\n",
    "    \n",
    "    plt.show()"
   ]
  },
  {
   "cell_type": "code",
   "execution_count": 10,
   "id": "b893cb10",
   "metadata": {},
   "outputs": [
    {
     "data": {
      "image/png": "[encoded data removed]",
      "text/plain": [
       "<Figure size 640x480 with 1 Axes>"
      ]
     },
     "metadata": {},
     "output_type": "display_data"
    }
   ],
   "source": [
    "plot_frequency_labels(y_train, y_test, y_val)"
   ]
  },
  {
   "cell_type": "markdown",
   "id": "226bae46",
   "metadata": {},
   "source": [
    "The data is clearly imbalanced since most of the documents were labeled as \"Fair\", and not many as \"Perfect\". However, this is common in real rankings since normally there are more irrelevant documents than relevant. It also depends on the person who puntuatets the document in light of the query. Therefore, we are not applying any treatment for imbalanced data."
   ]
  },
  {
   "cell_type": "markdown",
   "id": "119a1516",
   "metadata": {},
   "source": [
    "### Frequency queries with # documents"
   ]
  },
  {
   "cell_type": "markdown",
   "id": "ef4351bb",
   "metadata": {},
   "source": [
    "Another interesting plot is the number of documents retrieved against the number of queries. "
   ]
  },
  {
   "cell_type": "code",
   "execution_count": 11,
   "id": "1ce7bf4e",
   "metadata": {},
   "outputs": [],
   "source": [
    "def plot_frequency_queries_doc(qid_train, qid_test, qid_val):   \n",
    "    \n",
    "    \n",
    "    # Count the frequencies for each number of documents returned\n",
    "    num_docs_counts_train = np.bincount(np.bincount(qid_train), minlength=1)[1:]\n",
    "    num_docs_counts_test = np.bincount(np.bincount(qid_test), minlength=1)[1:]\n",
    "    num_docs_counts_val = np.bincount(np.bincount(qid_val), minlength=1)[1:]\n",
    "\n",
    "    fig, axs = plt.subplots(3, 1, figsize=(8, 10))\n",
    "\n",
    "    # Plot 1\n",
    "    axs[0].bar(np.arange(len(num_docs_counts_train)),  num_docs_counts_train, color='blue')\n",
    "    axs[0].set_ylabel('Number of Documents Returned')\n",
    "    axs[0].set_xlabel('Number of Queries')\n",
    "    axs[0].set_title('Train')\n",
    "\n",
    "    # Plot 2\n",
    "    axs[1].bar(np.arange(len(num_docs_counts_val)), num_docs_counts_val, color='orange')\n",
    "    axs[1].set_ylabel('Number of Documents Returned')\n",
    "    axs[1].set_xlabel('Number of Queries')\n",
    "    axs[1].set_title('Val')\n",
    "\n",
    "    # Plot 3\n",
    "    axs[2].bar(np.arange(len(num_docs_counts_test)), num_docs_counts_test, color='green')\n",
    "    axs[2].set_ylabel('Number of Documents Returned')\n",
    "    axs[2].set_xlabel('Number of Queries')\n",
    "    axs[2].set_title('Test')\n",
    "\n",
    "    plt.tight_layout()\n",
    "    plt.show()"
   ]
  },
  {
   "cell_type": "code",
   "execution_count": 12,
   "id": "a6e3b2b3",
   "metadata": {},
   "outputs": [
    {
     "data": {
      "image/png": "[encoded data removed]",
      "text/plain": [
       "<Figure size 800x1000 with 3 Axes>"
      ]
     },
     "metadata": {},
     "output_type": "display_data"
    }
   ],
   "source": [
    "plot_frequency_queries_doc(query_id_train,query_id_test,query_id_val)"
   ]
  },
  {
   "cell_type": "markdown",
   "id": "44d0a7b0",
   "metadata": {},
   "source": [
    "The sets follow a similar distribution. Most queries return between 5 and 15 documents. It is rare to find a query returning 120 documents. Hence, we are going to train our model using 50 documents per query."
   ]
  },
  {
   "cell_type": "markdown",
   "id": "66d21572",
   "metadata": {},
   "source": [
    "### Printing statistics"
   ]
  },
  {
   "cell_type": "code",
   "execution_count": 13,
   "id": "482ade5c",
   "metadata": {},
   "outputs": [],
   "source": [
    "def stats(train, test, val):\n",
    "            \n",
    "    # Collect metrics for below stats\n",
    "    len_train = train[0].shape[0]\n",
    "    len_test = test[0].shape[0]\n",
    "    len_val = val[0].shape[0]\n",
    "    total = len_train + len_test + len_val\n",
    "        \n",
    "    # Print length of all datasets and the overal balance between the splits\n",
    "    print('*'*24 + ' ' + 'Total documents' + ' ' + '*'*24)\n",
    "    print(f'Total documents in training set: {len_train}')\n",
    "    print(f'Total documents in testing set: {len_test}')\n",
    "    print(f'Total documents in validation set: {len_val}')\n",
    "    print('='*64)\n",
    "    print(f'The training set contains {round(len_train/total, 3)}% of the total data')\n",
    "    print(f'The testing set contains {round(len_test/total, 3)}% of the total data')\n",
    "    print(f'The validation set contains {round(len_val/total, 3)}% of the total data')\n",
    "         \n",
    "    # Mapping of initial dataframes\n",
    "    dataframes = {'train': train, 'test': test, 'val': val}\n",
    "        \n",
    "    # Calculating the distribution of the relevance column\n",
    "    for k,df in dataframes.items():\n",
    "        len_docs = len(df[1])\n",
    "        relevance_counts = np.bincount(df[1].astype(int))\n",
    "        print('='*64)\n",
    "        print('*'*16 + ' ' + f'{k} Relevance Class Balance' + ' ' + '*'*16)\n",
    "        for i in [0,1,2,3,4]:\n",
    "            print(f'Rank {i}: Total Count: {relevance_counts[i]} Percentage: {round(relevance_counts[i]/len_docs,3)}')\n",
    "    print(' ')\n",
    "    "
   ]
  },
  {
   "cell_type": "code",
   "execution_count": 14,
   "id": "e2d961dd",
   "metadata": {},
   "outputs": [
    {
     "name": "stdout",
     "output_type": "stream",
     "text": [
      "************************ Total documents ************************\n",
      "Total documents in training set: 473134\n",
      "Total documents in testing set: 165660\n",
      "Total documents in validation set: 71083\n",
      "================================================================\n",
      "The training set contains 0.667% of the total data\n",
      "The testing set contains 0.233% of the total data\n",
      "The validation set contains 0.1% of the total data\n",
      "================================================================\n",
      "**************** train Relevance Class Balance ****************\n",
      "Rank 0: Total Count: 123294 Percentage: 0.261\n",
      "Rank 1: Total Count: 169897 Percentage: 0.359\n",
      "Rank 2: Total Count: 134832 Percentage: 0.285\n",
      "Rank 3: Total Count: 36170 Percentage: 0.076\n",
      "Rank 4: Total Count: 8941 Percentage: 0.019\n",
      "================================================================\n",
      "**************** test Relevance Class Balance ****************\n",
      "Rank 0: Total Count: 42625 Percentage: 0.257\n",
      "Rank 1: Total Count: 59107 Percentage: 0.357\n",
      "Rank 2: Total Count: 48033 Percentage: 0.29\n",
      "Rank 3: Total Count: 12804 Percentage: 0.077\n",
      "Rank 4: Total Count: 3091 Percentage: 0.019\n",
      "================================================================\n",
      "**************** val Relevance Class Balance ****************\n",
      "Rank 0: Total Count: 19273 Percentage: 0.271\n",
      "Rank 1: Total Count: 25106 Percentage: 0.353\n",
      "Rank 2: Total Count: 19835 Percentage: 0.279\n",
      "Rank 3: Total Count: 5499 Percentage: 0.077\n",
      "Rank 4: Total Count: 1370 Percentage: 0.019\n",
      " \n"
     ]
    }
   ],
   "source": [
    "train = [X_train_fs, y_train, query_id_train]\n",
    "test = [X_test_fs, y_test, query_id_test]\n",
    "val = [X_val_fs, y_val, query_id_val]\n",
    "\n",
    "stats(train, test, val)"
   ]
  },
  {
   "cell_type": "markdown",
   "id": "31d027dd",
   "metadata": {},
   "source": [
    "## Save as tfrecords"
   ]
  },
  {
   "cell_type": "markdown",
   "id": "21ed210a",
   "metadata": {},
   "source": [
    "Finally, it is necessary to save the data in a specific format known as ELWC if we want to train a neural GAM model. It is one of the accepted formats of tensorflow ranking library."
   ]
  },
  {
   "cell_type": "code",
   "execution_count": 15,
   "id": "d29d2b59",
   "metadata": {},
   "outputs": [],
   "source": [
    "class Parser_libSVM_tfrecord():\n",
    "    \n",
    "    def __init__(self, data=[], tfrecord_path=' ', labels = []):\n",
    "        \n",
    "        self.data = data\n",
    "        self.tfrecord_path = tfrecord_path\n",
    "        self.labels = labels\n",
    "        \n",
    "        if not os.path.isdir(self.tfrecord_path):\n",
    "            os.makedirs(self.tfrecord_path)\n",
    "            \n",
    "    def _float_feature(self, value):\n",
    "        \"\"\"Returns a float_list from a float / double.\"\"\"\n",
    "        return tf.train.Feature(float_list=tf.train.FloatList(value=[value]))\n",
    "\n",
    "    def _int64_feature(self, value):\n",
    "        \"\"\"Returns an int64_list from a bool / enum / int / uint.\"\"\"\n",
    "        return tf.train.Feature(int64_list=tf.train.Int64List(value=[value]))\n",
    "    \n",
    "    def create_tfrecord(self, data, tfrecord_path):\n",
    "\n",
    "        options_ = tf.io.TFRecordOptions(compression_type='GZIP')\n",
    "        with tf.io.TFRecordWriter(tfrecord_path) as writer:\n",
    "\n",
    "            # Create Example list \n",
    "            elwc = input_pb2.ExampleListWithContext()\n",
    "            # Save the last query id for filtering\n",
    "            last_query_id = None\n",
    "            \n",
    "            #for each sample\n",
    "            for row in range(data.shape[0]):\n",
    "                # Select data from each row\n",
    "                relevance_label, query_id, features = data[row,0],data[row,1],data[row,2:]\n",
    "                # Create Example Dict\n",
    "                example_dict = {\n",
    "                   f'{feat_name}':self._float_feature(feat_val) for feat_name, feat_val in zip(self.labels, features)\n",
    "                }\n",
    "                example_dict['relevance_label'] = self._int64_feature(int(relevance_label))\n",
    "                # Create Features\n",
    "                example_ = tf.train.Example(features=tf.train.Features(\n",
    "                                                         feature=example_dict)\n",
    "                                     )\n",
    "                # Create ELWC by query id\n",
    "                if query_id != last_query_id:\n",
    "                    if last_query_id != None:\n",
    "                        writer.write(elwc.SerializeToString())\n",
    "                    last_query_id = query_id\n",
    "                    elwc = input_pb2.ExampleListWithContext()\n",
    "                    elwc.examples.append(example_)\n",
    "                else:\n",
    "                    elwc.examples.append(example_)\n",
    "            # Writing the final query\n",
    "            writer.write(elwc.SerializeToString())\n",
    "            \n",
    "    def load_and_convert_data(self):\n",
    "        # Concatenate data into one array\n",
    "        # each row represents a doc, and the columns contain the label, query ID, and features\n",
    "        for label, dataset in data.items():\n",
    "            \n",
    "            expanded_data = np.concatenate((np.expand_dims(dataset[1], axis=1), \n",
    "                                        np.expand_dims(dataset[2], axis=1), \n",
    "                                        dataset[0].toarray()), axis=1)\n",
    "            tfrecord_path = f'{self.tfrecord_path}/{label}.tfrecords' \n",
    "            self.create_tfrecord(expanded_data, tfrecord_path) #call function to transform into tfrecord"
   ]
  },
  {
   "cell_type": "code",
   "execution_count": 16,
   "id": "a0a3b3f9",
   "metadata": {},
   "outputs": [],
   "source": [
    "data = {'train':train, 'test':test, 'val':val}\n",
    "\n",
    "yahoo_labels = [\"%d\" % (i + 1) for i in range(0,100)]\n",
    "\n",
    "parser = Parser_libSVM_tfrecord(data=data, tfrecord_path='datasets/yahoo/tfrecords', labels = yahoo_labels)\n",
    "parser.load_and_convert_data()"
   ]
  },
  {
   "cell_type": "markdown",
   "id": "890884bf",
   "metadata": {},
   "source": [
    "## Save test data as CSV"
   ]
  },
  {
   "cell_type": "markdown",
   "id": "042d969b",
   "metadata": {},
   "source": [
    "We also save the test data as a csv because we will need it later when we want to use LIME to generate explanations."
   ]
  },
  {
   "cell_type": "code",
   "execution_count": 17,
   "id": "20f1f68b",
   "metadata": {},
   "outputs": [],
   "source": [
    "final_df = pd.DataFrame.sparse.from_spmatrix(test[0], columns = yahoo_labels)\n",
    "final_df.insert(0, 'qid', test[2])\n",
    "final_df.insert(0, 'relevance_label', test[1])"
   ]
  },
  {
   "cell_type": "code",
   "execution_count": 18,
   "id": "bcd0a61f",
   "metadata": {},
   "outputs": [
    {
     "data": {
      "text/html": [
       "<div>\n",
       "<style scoped>\n",
       "    .dataframe tbody tr th:only-of-type {\n",
       "        vertical-align: middle;\n",
       "    }\n",
       "\n",
       "    .dataframe tbody tr th {\n",
       "        vertical-align: top;\n",
       "    }\n",
       "\n",
       "    .dataframe thead th {\n",
       "        text-align: right;\n",
       "    }\n",
       "</style>\n",
       "<table border=\"1\" class=\"dataframe\">\n",
       "  <thead>\n",
       "    <tr style=\"text-align: right;\">\n",
       "      <th></th>\n",
       "      <th>relevance_label</th>\n",
       "      <th>qid</th>\n",
       "      <th>1</th>\n",
       "      <th>2</th>\n",
       "      <th>3</th>\n",
       "      <th>4</th>\n",
       "      <th>5</th>\n",
       "      <th>6</th>\n",
       "      <th>7</th>\n",
       "      <th>8</th>\n",
       "      <th>...</th>\n",
       "      <th>91</th>\n",
       "      <th>92</th>\n",
       "      <th>93</th>\n",
       "      <th>94</th>\n",
       "      <th>95</th>\n",
       "      <th>96</th>\n",
       "      <th>97</th>\n",
       "      <th>98</th>\n",
       "      <th>99</th>\n",
       "      <th>100</th>\n",
       "    </tr>\n",
       "  </thead>\n",
       "  <tbody>\n",
       "    <tr>\n",
       "      <th>0</th>\n",
       "      <td>0.0</td>\n",
       "      <td>22939</td>\n",
       "      <td>0.30267</td>\n",
       "      <td>0.646710</td>\n",
       "      <td>0.0</td>\n",
       "      <td>0.34678</td>\n",
       "      <td>0.89603</td>\n",
       "      <td>0.122830</td>\n",
       "      <td>0.65796</td>\n",
       "      <td>0.77336</td>\n",
       "      <td>...</td>\n",
       "      <td>0.107100</td>\n",
       "      <td>0.47405</td>\n",
       "      <td>0.0</td>\n",
       "      <td>0.00000</td>\n",
       "      <td>0.178890</td>\n",
       "      <td>0.00000</td>\n",
       "      <td>0.16873</td>\n",
       "      <td>0.0</td>\n",
       "      <td>0.054808</td>\n",
       "      <td>0.37080</td>\n",
       "    </tr>\n",
       "    <tr>\n",
       "      <th>1</th>\n",
       "      <td>1.0</td>\n",
       "      <td>22939</td>\n",
       "      <td>0.77818</td>\n",
       "      <td>0.099093</td>\n",
       "      <td>0.0</td>\n",
       "      <td>0.90748</td>\n",
       "      <td>0.35544</td>\n",
       "      <td>0.531800</td>\n",
       "      <td>0.47580</td>\n",
       "      <td>0.00000</td>\n",
       "      <td>...</td>\n",
       "      <td>0.798600</td>\n",
       "      <td>0.39928</td>\n",
       "      <td>0.0</td>\n",
       "      <td>0.36453</td>\n",
       "      <td>0.635170</td>\n",
       "      <td>0.46792</td>\n",
       "      <td>0.76504</td>\n",
       "      <td>0.0</td>\n",
       "      <td>0.356410</td>\n",
       "      <td>0.85208</td>\n",
       "    </tr>\n",
       "    <tr>\n",
       "      <th>2</th>\n",
       "      <td>1.0</td>\n",
       "      <td>22939</td>\n",
       "      <td>0.77818</td>\n",
       "      <td>0.715050</td>\n",
       "      <td>0.0</td>\n",
       "      <td>0.97981</td>\n",
       "      <td>0.44943</td>\n",
       "      <td>0.048097</td>\n",
       "      <td>0.71858</td>\n",
       "      <td>0.00000</td>\n",
       "      <td>...</td>\n",
       "      <td>0.048097</td>\n",
       "      <td>0.13551</td>\n",
       "      <td>0.0</td>\n",
       "      <td>0.64598</td>\n",
       "      <td>0.048097</td>\n",
       "      <td>0.46792</td>\n",
       "      <td>0.10065</td>\n",
       "      <td>0.0</td>\n",
       "      <td>0.104200</td>\n",
       "      <td>0.23288</td>\n",
       "    </tr>\n",
       "    <tr>\n",
       "      <th>3</th>\n",
       "      <td>0.0</td>\n",
       "      <td>22939</td>\n",
       "      <td>0.53862</td>\n",
       "      <td>0.279800</td>\n",
       "      <td>0.0</td>\n",
       "      <td>0.83239</td>\n",
       "      <td>0.29999</td>\n",
       "      <td>0.657750</td>\n",
       "      <td>0.41948</td>\n",
       "      <td>0.62482</td>\n",
       "      <td>...</td>\n",
       "      <td>0.570610</td>\n",
       "      <td>0.37363</td>\n",
       "      <td>0.0</td>\n",
       "      <td>0.36453</td>\n",
       "      <td>0.370790</td>\n",
       "      <td>0.00000</td>\n",
       "      <td>0.27524</td>\n",
       "      <td>0.0</td>\n",
       "      <td>0.341860</td>\n",
       "      <td>0.54412</td>\n",
       "    </tr>\n",
       "    <tr>\n",
       "      <th>4</th>\n",
       "      <td>0.0</td>\n",
       "      <td>22939</td>\n",
       "      <td>0.59326</td>\n",
       "      <td>0.601570</td>\n",
       "      <td>0.0</td>\n",
       "      <td>0.77684</td>\n",
       "      <td>0.00000</td>\n",
       "      <td>0.000000</td>\n",
       "      <td>0.00000</td>\n",
       "      <td>0.33855</td>\n",
       "      <td>...</td>\n",
       "      <td>0.000000</td>\n",
       "      <td>0.00000</td>\n",
       "      <td>0.0</td>\n",
       "      <td>0.87514</td>\n",
       "      <td>0.000000</td>\n",
       "      <td>0.00000</td>\n",
       "      <td>0.00000</td>\n",
       "      <td>0.0</td>\n",
       "      <td>0.155630</td>\n",
       "      <td>0.00000</td>\n",
       "    </tr>\n",
       "  </tbody>\n",
       "</table>\n",
       "<p>5 rows × 102 columns</p>\n",
       "</div>"
      ],
      "text/plain": [
       "   relevance_label    qid        1         2    3        4        5         6   \n",
       "0              0.0  22939  0.30267  0.646710  0.0  0.34678  0.89603  0.122830  \\\n",
       "1              1.0  22939  0.77818  0.099093  0.0  0.90748  0.35544  0.531800   \n",
       "2              1.0  22939  0.77818  0.715050  0.0  0.97981  0.44943  0.048097   \n",
       "3              0.0  22939  0.53862  0.279800  0.0  0.83239  0.29999  0.657750   \n",
       "4              0.0  22939  0.59326  0.601570  0.0  0.77684  0.00000  0.000000   \n",
       "\n",
       "         7        8  ...        91       92   93       94        95       96   \n",
       "0  0.65796  0.77336  ...  0.107100  0.47405  0.0  0.00000  0.178890  0.00000  \\\n",
       "1  0.47580  0.00000  ...  0.798600  0.39928  0.0  0.36453  0.635170  0.46792   \n",
       "2  0.71858  0.00000  ...  0.048097  0.13551  0.0  0.64598  0.048097  0.46792   \n",
       "3  0.41948  0.62482  ...  0.570610  0.37363  0.0  0.36453  0.370790  0.00000   \n",
       "4  0.00000  0.33855  ...  0.000000  0.00000  0.0  0.87514  0.000000  0.00000   \n",
       "\n",
       "        97   98        99      100  \n",
       "0  0.16873  0.0  0.054808  0.37080  \n",
       "1  0.76504  0.0  0.356410  0.85208  \n",
       "2  0.10065  0.0  0.104200  0.23288  \n",
       "3  0.27524  0.0  0.341860  0.54412  \n",
       "4  0.00000  0.0  0.155630  0.00000  \n",
       "\n",
       "[5 rows x 102 columns]"
      ]
     },
     "metadata": {},
     "output_type": "display_data"
    }
   ],
   "source": [
    "display(final_df.head())"
   ]
  },
  {
   "cell_type": "code",
   "execution_count": 19,
   "id": "9f37624b",
   "metadata": {},
   "outputs": [],
   "source": [
    "final_df.to_csv('test_yahoo.csv', index=False)"
   ]
  }
 ],
 "metadata": {
  "kernelspec": {
   "display_name": "Tensor",
   "language": "python",
   "name": "tf"
  },
  "language_info": {
   "codemirror_mode": {
    "name": "ipython",
    "version": 3
   },
   "file_extension": ".py",
   "mimetype": "text/x-python",
   "name": "python",
   "nbconvert_exporter": "python",
   "pygments_lexer": "ipython3",
   "version": "3.9.16"
  }
 },
 "nbformat": 4,
 "nbformat_minor": 5
}
